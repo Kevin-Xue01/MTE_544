{
 "cells": [
  {
   "cell_type": "code",
   "execution_count": 10,
   "metadata": {},
   "outputs": [],
   "source": [
    "import matplotlib.pyplot as plt\n",
    "from csv import DictReader\n",
    "import numpy as np\n",
    "import pandas as pd"
   ]
  },
  {
   "cell_type": "code",
   "execution_count": 12,
   "metadata": {},
   "outputs": [
    {
     "ename": "AttributeError",
     "evalue": "'list' object has no attribute 'shape'",
     "output_type": "error",
     "traceback": [
      "\u001b[1;31m---------------------------------------------------------------------------\u001b[0m",
      "\u001b[1;31mAttributeError\u001b[0m                            Traceback (most recent call last)",
      "Cell \u001b[1;32mIn[12], line 54\u001b[0m\n\u001b[0;32m     52\u001b[0m     plt\u001b[38;5;241m.\u001b[39mtight_layout()\n\u001b[0;32m     53\u001b[0m     plt\u001b[38;5;241m.\u001b[39mshow()\n\u001b[1;32m---> 54\u001b[0m \u001b[43mplot_robot_pose\u001b[49m\u001b[43m(\u001b[49m\u001b[38;5;124;43m'\u001b[39;49m\u001b[38;5;124;43mPoint_PID_controller/robot_pose.csv\u001b[39;49m\u001b[38;5;124;43m'\u001b[39;49m\u001b[43m)\u001b[49m\n",
      "Cell \u001b[1;32mIn[12], line 19\u001b[0m, in \u001b[0;36mplot_robot_pose\u001b[1;34m(filename)\u001b[0m\n\u001b[0;32m     16\u001b[0m y \u001b[38;5;241m=\u001b[39m df[\u001b[38;5;124m'\u001b[39m\u001b[38;5;124my\u001b[39m\u001b[38;5;124m'\u001b[39m]\u001b[38;5;241m.\u001b[39mto_numpy()\n\u001b[0;32m     18\u001b[0m s \u001b[38;5;241m=\u001b[39m t\u001b[38;5;241m.\u001b[39mtolist()\n\u001b[1;32m---> 19\u001b[0m \u001b[38;5;28mprint\u001b[39m(\u001b[43ms\u001b[49m\u001b[38;5;241;43m.\u001b[39;49m\u001b[43mshape\u001b[49m)\n\u001b[0;32m     20\u001b[0m t \u001b[38;5;241m=\u001b[39m []\n\u001b[0;32m     22\u001b[0m \u001b[38;5;28;01mwith\u001b[39;00m \u001b[38;5;28mopen\u001b[39m(filename, \u001b[38;5;124m'\u001b[39m\u001b[38;5;124mr\u001b[39m\u001b[38;5;124m'\u001b[39m) \u001b[38;5;28;01mas\u001b[39;00m file:\n",
      "\u001b[1;31mAttributeError\u001b[0m: 'list' object has no attribute 'shape'"
     ]
    }
   ],
   "source": [
    "x = []\n",
    "y = []\n",
    "x_t_sigmoid = np.arange(int(2.5 * 100)) / 100\n",
    "x_t_parabola = np.arange(int(1.5 * 100)) / 100\n",
    "\n",
    "sigmoid = 2 / (1 + np.exp(-2 * x_t_sigmoid)) - 1\n",
    "parabola = np.square(x_t_parabola)\n",
    "theta = []\n",
    "t = []\n",
    "\n",
    "def plot_robot_pose(filename):\n",
    "    df = pd.read_csv(filename)\n",
    "    theta = df['theta'].to_numpy()\n",
    "    t = df['stamp'].to_numpy()\n",
    "    x = df['x'].to_numpy()\n",
    "    y = df['y'].to_numpy()\n",
    "\n",
    "    s = t.tolist()\n",
    "    print(t.shape)\n",
    "    t = []\n",
    "\n",
    "    with open(filename, 'r') as file:\n",
    "        reader = DictReader(file)\n",
    "        for row in reader:\n",
    "           # theta.append(float(row['theta']))\n",
    "            t.append(float(row['stamp']))\n",
    "            #x.append(float(row['x']))\n",
    "            #y.append(float(row['y']))\n",
    "\n",
    "    print(t==s)\n",
    "\n",
    "    plt.figure(figsize=(10,8))\n",
    "    plt.subplot(2,2,1)\n",
    "    plt.plot(x, y)\n",
    "    # plt.plot(x_t_sigmoid, sigmoid)\n",
    "    plt.plot(x_t_parabola, parabola, linestyle='--')\n",
    "\n",
    "    plt.xlabel('x')\n",
    "    plt.ylabel('y')\n",
    "\n",
    "    plt.subplot(2,2,2)\n",
    "    plt.plot(t, x)\n",
    "    plt.plot(t, y)\n",
    "    plt.xlabel('t')\n",
    "    plt.ylabel('meters')\n",
    "\n",
    "    plt.subplot(2,2,3)\n",
    "    plt.plot(t, theta)\n",
    "    plt.xlabel('t')\n",
    "    plt.ylabel('rad')\n",
    "\n",
    "    plt.tight_layout()\n",
    "    plt.show()\n",
    "plot_robot_pose('Point_PID_controller/robot_pose.csv')"
   ]
  }
 ],
 "metadata": {
  "kernelspec": {
   "display_name": "venv",
   "language": "python",
   "name": "python3"
  },
  "language_info": {
   "codemirror_mode": {
    "name": "ipython",
    "version": 3
   },
   "file_extension": ".py",
   "mimetype": "text/x-python",
   "name": "python",
   "nbconvert_exporter": "python",
   "pygments_lexer": "ipython3",
   "version": "3.9.13"
  }
 },
 "nbformat": 4,
 "nbformat_minor": 2
}
