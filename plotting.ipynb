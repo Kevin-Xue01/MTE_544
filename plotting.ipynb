{
 "cells": [
  {
   "cell_type": "code",
   "execution_count": null,
   "metadata": {},
   "outputs": [],
   "source": [
    "import pandas as pd"
   ]
  },
  {
   "cell_type": "code",
   "execution_count": null,
   "metadata": {},
   "outputs": [],
   "source": [
    "# Assuming the file is named 'data.csv'\n",
    "df = pd.read_csv('angular.csv_errors', \n",
    "                 names=['e', 'e_dot', 'e_int', 'stamp'], \n",
    "                 header=None)\n",
    "\n",
    "# Convert 'stamp' from scientific notation or other formats if necessary\n",
    "df['stamp'] = df['stamp'].astype(float)  # If you need to ensure it's a float\n",
    "\n",
    "print(df)"
   ]
  }
 ],
 "metadata": {
  "kernelspec": {
   "display_name": "venv",
   "language": "python",
   "name": "python3"
  },
  "language_info": {
   "name": "python",
   "version": "3.10.12"
  }
 },
 "nbformat": 4,
 "nbformat_minor": 2
}
