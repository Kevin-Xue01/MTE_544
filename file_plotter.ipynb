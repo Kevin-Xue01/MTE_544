{
 "cells": [
  {
   "cell_type": "code",
   "execution_count": 19,
   "metadata": {},
   "outputs": [],
   "source": [
    "import matplotlib.pyplot as plt\n",
    "import pandas as pd\n",
    "import numpy as np"
   ]
  },
  {
   "cell_type": "markdown",
   "metadata": {},
   "source": [
    "### Plot LiDAR"
   ]
  },
  {
   "cell_type": "code",
   "execution_count": null,
   "metadata": {},
   "outputs": [],
   "source": [
    "### justin\n",
    "\n",
    "def process_lidar_data(filename):\n",
    "    df = pd.read_csv(filename)\n",
    "    \n",
    "    # obtain data of first line\n",
    "    ranges = str(df.loc[0, 'ranges'])\n",
    "    angle_increment = df.loc[0, ' angle_increment']\n",
    "    ranges = ranges.split(\"|\")\n",
    "\n",
    "    x = []\n",
    "    y = []\n",
    "    angles = [angle_increment*i for i in range(len(ranges))]\n",
    "\n",
    "    # create polar plot points and skip inf values\n",
    "    for curr_range, curr_angle in zip(ranges, angles):\n",
    "        if curr_range != 'inf':\n",
    "            x.append(float(curr_range)*np.cos(curr_angle))\n",
    "            y.append(float(curr_range)*np.sin(curr_angle))\n",
    "\n",
    "    return x, y\n",
    "\n",
    "line_x, line_y = process_lidar_data(\"logs/laser_content_line.csv\")\n",
    "spiral_x, spiral_y = process_lidar_data(\"logs/laser_content_spiral.csv\")\n",
    "circle_x, circle_y = process_lidar_data(\"logs/laser_content_circle.csv\")\n",
    "\n",
    "# Plot all three paths with different markers\n",
    "plt.figure(figsize=(8, 8))\n",
    "plt.scatter(line_x, line_y, c='blue', s=10, marker='o', label='line')     # Line path\n",
    "plt.scatter(spiral_x, spiral_y, c='green', s=10, marker='x', label='spiral')  # Spiral path\n",
    "plt.scatter(circle_x, circle_y, c='red', s=10, marker='^', label='circle')   # Circle path\n",
    "\n",
    "# Labeling the axes and title\n",
    "plt.xlabel('X (meters)')\n",
    "plt.ylabel('Y (meters)')\n",
    "plt.title('laser_content_*.csv (line, spiral, circle)')\n",
    "\n",
    "# Adding legend and ensuring the axis scales are equal\n",
    "plt.legend()\n",
    "plt.axis('equal')\n",
    "plt.grid(True)\n",
    "\n",
    "# Show the plot\n",
    "plt.show()\n"
   ]
  },
  {
   "cell_type": "markdown",
   "metadata": {},
   "source": [
    "### Plot IMU"
   ]
  },
  {
   "cell_type": "code",
   "execution_count": null,
   "metadata": {},
   "outputs": [],
   "source": [
    "# Function to load and process CSV files\n",
    "def load_data(file):\n",
    "    df = pd.read_csv(file)\n",
    "    # Convert the 'stamp' column from nanoseconds to seconds\n",
    "    df['stamp_sec'] = (df[' stamp'] - df[' stamp'].min()) / 1e9\n",
    "    return df\n",
    "\n",
    "# Load the data from three files\n",
    "line_imu_filepath = \"logs/imu_content_line.csv\"\n",
    "spiral_imu_filepath = \"logs/imu_content_spiral.csv\"\n",
    "circle_imu_filepath = \"logs/imu_content_circle.csv\"\n",
    "\n",
    "line_imu_df = load_data(line_imu_filepath)\n",
    "spiral_imu_df = load_data(spiral_imu_filepath)\n",
    "circle_imu_df = load_data(circle_imu_filepath)\n",
    "\n",
    "# Plot the data\n",
    "plt.figure(figsize=(12, 10))\n",
    "\n",
    "# Plot acc_x vs time for all files\n",
    "plt.subplot(3, 1, 1)\n",
    "plt.plot(line_imu_df['stamp_sec'], line_imu_df['acc_x'], label=f'line', color='blue')\n",
    "plt.plot(spiral_imu_df['stamp_sec'], spiral_imu_df['acc_x'], label=f'spiral', color='green')\n",
    "plt.plot(circle_imu_df['stamp_sec'], circle_imu_df['acc_x'], label=f'circle', color='red')\n",
    "plt.xlabel('time (s)')\n",
    "plt.ylabel('$\\ddot{x}$ (m/s²)')\n",
    "plt.title('imu_content_*.csv[acc_x]: (line, spiral, circle)')\n",
    "plt.legend()\n",
    "plt.grid(True)\n",
    "\n",
    "# Plot acc_y vs time for all files\n",
    "plt.subplot(3, 1, 2)\n",
    "plt.plot(line_imu_df['stamp_sec'], line_imu_df[' acc_y'], label=f'line', color='blue')\n",
    "plt.plot(spiral_imu_df['stamp_sec'], spiral_imu_df[' acc_y'], label=f'spiral', color='green')\n",
    "plt.plot(circle_imu_df['stamp_sec'], circle_imu_df[' acc_y'], label=f'circle', color='red')\n",
    "plt.xlabel('time (s)')\n",
    "plt.ylabel('$\\ddot{y}$ (m/s²)')\n",
    "plt.title('imu_content_*.csv[acc_y]: (line, spiral, circle)')\n",
    "plt.legend()\n",
    "plt.grid(True)\n",
    "\n",
    "# Plot angular_z vs time for all files\n",
    "plt.subplot(3, 1, 3)\n",
    "plt.plot(line_imu_df['stamp_sec'], line_imu_df[' angular_z'], label=f'line', color='blue')\n",
    "plt.plot(spiral_imu_df['stamp_sec'], spiral_imu_df[' angular_z'], label=f'spiral', color='green')\n",
    "plt.plot(circle_imu_df['stamp_sec'], circle_imu_df[' angular_z'], label=f'circle', color='red')\n",
    "plt.xlabel('time (s)')\n",
    "plt.ylabel('$\\dot{\\\\theta}$ (rad/s)')\n",
    "plt.title('imu_content_*.csv[angular_z]: (line, spiral, circle)')\n",
    "plt.legend()\n",
    "plt.grid(True)\n",
    "\n",
    "# Adjust layout to prevent overlap\n",
    "plt.tight_layout()\n",
    "\n",
    "# Show the plot\n",
    "plt.show()"
   ]
  }
 ],
 "metadata": {
  "kernelspec": {
   "display_name": "venv",
   "language": "python",
   "name": "python3"
  },
  "language_info": {
   "codemirror_mode": {
    "name": "ipython",
    "version": 3
   },
   "file_extension": ".py",
   "mimetype": "text/x-python",
   "name": "python",
   "nbconvert_exporter": "python",
   "pygments_lexer": "ipython3",
   "version": "3.10.12"
  }
 },
 "nbformat": 4,
 "nbformat_minor": 2
}
