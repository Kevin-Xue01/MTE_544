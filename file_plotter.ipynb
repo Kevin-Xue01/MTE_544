{
 "cells": [
  {
   "cell_type": "code",
   "execution_count": 19,
   "metadata": {},
   "outputs": [],
   "source": [
    "import matplotlib.pyplot as plt\n",
    "from utilities import FileReader\n",
    "import pandas as pd\n",
    "import numpy as np"
   ]
  },
  {
   "cell_type": "markdown",
   "metadata": {},
   "source": [
    "### Plot LiDAR"
   ]
  },
  {
   "cell_type": "code",
   "execution_count": null,
   "metadata": {},
   "outputs": [],
   "source": [
    "### justin\n",
    "\n",
    "def plot_lidar_polar(filename):\n",
    "    df = pd.read_csv(filename)\n",
    "    \n",
    "    # obtain data of first line\n",
    "    ranges = str(df.loc[0, 'ranges'])\n",
    "    angle_increment = df.loc[0, ' angle_increment']\n",
    "    ranges = ranges.split(\"|\")\n",
    "\n",
    "    x = []\n",
    "    y = []\n",
    "    angles = [angle_increment*i for i in range(len(ranges))]\n",
    "\n",
    "    # create polar plot points and skip inf values\n",
    "    for curr_range, curr_angle in zip(ranges, angles):\n",
    "        if curr_range != 'inf':\n",
    "            x.append(float(curr_range)*np.cos(curr_angle))\n",
    "            y.append(float(curr_range)*np.sin(curr_angle))\n",
    "\n",
    "    return x, y\n",
    "\n",
    "line_x, line_y = plot_lidar_polar(\"logs/laser_content_line.csv\")\n",
    "spiral_x, spiral_y = plot_lidar_polar(\"logs/laser_content_spiral.csv\")\n",
    "circle_x, circle_y = plot_lidar_polar(\"logs/laser_content_circle.csv\")\n",
    "\n",
    "# Plot all three paths with different markers\n",
    "plt.figure(figsize=(8, 8))\n",
    "plt.scatter(line_x, line_y, c='blue', s=10, marker='o', label='line')     # Line path\n",
    "plt.scatter(spiral_x, spiral_y, c='green', s=10, marker='x', label='spiral')  # Spiral path\n",
    "plt.scatter(circle_x, circle_y, c='red', s=10, marker='^', label='circle')   # Circle path\n",
    "\n",
    "# Labeling the axes and title\n",
    "plt.xlabel('X (meters)')\n",
    "plt.ylabel('Y (meters)')\n",
    "plt.title('laser_content_*.csv: [line, spiral, circle]')\n",
    "\n",
    "# Adding legend and ensuring the axis scales are equal\n",
    "plt.legend()\n",
    "plt.axis('equal')\n",
    "plt.grid(True)\n",
    "\n",
    "# Show the plot\n",
    "plt.show()\n"
   ]
  },
  {
   "cell_type": "markdown",
   "metadata": {},
   "source": [
    "### Plot IMU"
   ]
  },
  {
   "cell_type": "code",
   "execution_count": null,
   "metadata": {},
   "outputs": [],
   "source": [
    "line_imu_df = pd.read_csv(\"logs/imu_content_line.csv\")\n",
    "\n",
    "line_imu_df['stamp_sec'] = (line_imu_df['stamp'] - line_imu_df['stamp'].min()) / 1e9 # convert timestamp to seconds\n",
    "\n",
    "# Plot acc_x vs time\n",
    "plt.figure(figsize=(12, 8))\n",
    "\n",
    "plt.subplot(3, 1, 1)\n",
    "plt.plot(line_imu_df['stamp_sec'], line_imu_df['acc_x'], label='acc_x', color='blue')\n",
    "plt.xlabel('Time (s)')\n",
    "plt.ylabel('Acceleration X (m/s²)')\n",
    "plt.title('Acceleration X vs Time')\n",
    "plt.grid(True)\n",
    "\n",
    "# Plot acc_y vs time\n",
    "plt.subplot(3, 1, 2)\n",
    "plt.plot(line_imu_df['stamp_sec'], line_imu_df['acc_y'], label='acc_y', color='green')\n",
    "plt.xlabel('Time (s)')\n",
    "plt.ylabel('Acceleration Y (m/s²)')\n",
    "plt.title('Acceleration Y vs Time')\n",
    "plt.grid(True)\n",
    "\n",
    "# Plot angular_z vs time\n",
    "plt.subplot(3, 1, 3)\n",
    "plt.plot(line_imu_df['stamp_sec'], line_imu_df['angular_z'], label='angular_z', color='red')\n",
    "plt.xlabel('Time (s)')\n",
    "plt.ylabel('Angular Velocity Z (rad/s)')\n",
    "plt.title('Angular Velocity Z vs Time')\n",
    "plt.grid(True)\n",
    "\n",
    "# Adjust layout to prevent overlap\n",
    "plt.tight_layout()\n",
    "\n",
    "# Show the plot\n",
    "plt.show()\n"
   ]
  }
 ],
 "metadata": {
  "kernelspec": {
   "display_name": "venv",
   "language": "python",
   "name": "python3"
  },
  "language_info": {
   "codemirror_mode": {
    "name": "ipython",
    "version": 3
   },
   "file_extension": ".py",
   "mimetype": "text/x-python",
   "name": "python",
   "nbconvert_exporter": "python",
   "pygments_lexer": "ipython3",
   "version": "3.10.12"
  }
 },
 "nbformat": 4,
 "nbformat_minor": 2
}
